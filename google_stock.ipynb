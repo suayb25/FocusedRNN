{
  "nbformat": 4,
  "nbformat_minor": 0,
  "metadata": {
    "colab": {
      "name": "Copy of google_stock_1.ipynb",
      "provenance": [],
      "collapsed_sections": []
    },
    "kernelspec": {
      "name": "python3",
      "display_name": "Python 3"
    }
  },
  "cells": [
    {
      "cell_type": "code",
      "metadata": {
        "id": "bE8w9Lwxb3OM",
        "colab_type": "code",
        "outputId": "11ff0981-67d0-4e70-b70f-bb32ac35d1c3",
        "colab": {
          "base_uri": "https://localhost:8080/",
          "height": 118
        }
      },
      "source": [
        "import warnings\n",
        "import tensorflow as tf\n",
        "from keras_utils import SGDwithLR,AdamwithClip,RMSpropwithClip\n",
        "from keras import models\n",
        "from keras_focused import SimpleFocusedRNN\n",
        "from keras.optimizers import RMSprop\n",
        "from keras.datasets import imdb\n",
        "from keras.models import Sequential\n",
        "from keras.preprocessing import sequence\n",
        "from keras import layers\n",
        "from keras.layers import Flatten,SimpleRNN\n",
        "import numpy as np\n",
        "import numpy\n",
        "from keras import backend as K\n",
        "%matplotlib inline\n",
        "import pandas as pd\n",
        "import matplotlib.pyplot as plt\n"
      ],
      "execution_count": 0,
      "outputs": [
        {
          "output_type": "display_data",
          "data": {
            "text/html": [
              "<p style=\"color: red;\">\n",
              "The default version of TensorFlow in Colab will soon switch to TensorFlow 2.x.<br>\n",
              "We recommend you <a href=\"https://www.tensorflow.org/guide/migrate\" target=\"_blank\">upgrade</a> now \n",
              "or ensure your notebook will continue to use TensorFlow 1.x via the <code>%tensorflow_version 1.x</code> magic:\n",
              "<a href=\"https://colab.research.google.com/notebooks/tensorflow_version.ipynb\" target=\"_blank\">more info</a>.</p>\n"
            ],
            "text/plain": [
              "<IPython.core.display.HTML object>"
            ]
          },
          "metadata": {
            "tags": []
          }
        },
        {
          "output_type": "stream",
          "text": [
            "The name for Record Variable has changed, use RecordWeights or RecordTensor instead\n",
            "Not working!\n"
          ],
          "name": "stdout"
        },
        {
          "output_type": "stream",
          "text": [
            "Using TensorFlow backend.\n"
          ],
          "name": "stderr"
        }
      ]
    },
    {
      "cell_type": "code",
      "metadata": {
        "id": "OPMK5xXGcCNv",
        "colab_type": "code",
        "colab": {}
      },
      "source": [
        "import pandas as pd\n",
        "dataset_train = pd.read_csv(\"trainset.csv\")"
      ],
      "execution_count": 0,
      "outputs": []
    },
    {
      "cell_type": "code",
      "metadata": {
        "id": "71sWjoXitgwD",
        "colab_type": "code",
        "outputId": "c74c57ab-5b48-47b5-acdf-d61d519b3698",
        "colab": {
          "base_uri": "https://localhost:8080/",
          "height": 419
        }
      },
      "source": [
        "dataset_train"
      ],
      "execution_count": 0,
      "outputs": [
        {
          "output_type": "execute_result",
          "data": {
            "text/html": [
              "<div>\n",
              "<style scoped>\n",
              "    .dataframe tbody tr th:only-of-type {\n",
              "        vertical-align: middle;\n",
              "    }\n",
              "\n",
              "    .dataframe tbody tr th {\n",
              "        vertical-align: top;\n",
              "    }\n",
              "\n",
              "    .dataframe thead th {\n",
              "        text-align: right;\n",
              "    }\n",
              "</style>\n",
              "<table border=\"1\" class=\"dataframe\">\n",
              "  <thead>\n",
              "    <tr style=\"text-align: right;\">\n",
              "      <th></th>\n",
              "      <th>Date</th>\n",
              "      <th>Open</th>\n",
              "      <th>High</th>\n",
              "      <th>Low</th>\n",
              "      <th>Close</th>\n",
              "      <th>Adj Close</th>\n",
              "      <th>Volume</th>\n",
              "    </tr>\n",
              "  </thead>\n",
              "  <tbody>\n",
              "    <tr>\n",
              "      <th>0</th>\n",
              "      <td>2013-01-02</td>\n",
              "      <td>357.385559</td>\n",
              "      <td>361.151062</td>\n",
              "      <td>355.959839</td>\n",
              "      <td>359.288177</td>\n",
              "      <td>359.288177</td>\n",
              "      <td>5115500</td>\n",
              "    </tr>\n",
              "    <tr>\n",
              "      <th>1</th>\n",
              "      <td>2013-01-03</td>\n",
              "      <td>360.122742</td>\n",
              "      <td>363.600128</td>\n",
              "      <td>358.031342</td>\n",
              "      <td>359.496826</td>\n",
              "      <td>359.496826</td>\n",
              "      <td>4666500</td>\n",
              "    </tr>\n",
              "    <tr>\n",
              "      <th>2</th>\n",
              "      <td>2013-01-04</td>\n",
              "      <td>362.313507</td>\n",
              "      <td>368.339294</td>\n",
              "      <td>361.488861</td>\n",
              "      <td>366.600616</td>\n",
              "      <td>366.600616</td>\n",
              "      <td>5562800</td>\n",
              "    </tr>\n",
              "    <tr>\n",
              "      <th>3</th>\n",
              "      <td>2013-01-07</td>\n",
              "      <td>365.348755</td>\n",
              "      <td>367.301056</td>\n",
              "      <td>362.929504</td>\n",
              "      <td>365.001007</td>\n",
              "      <td>365.001007</td>\n",
              "      <td>3332900</td>\n",
              "    </tr>\n",
              "    <tr>\n",
              "      <th>4</th>\n",
              "      <td>2013-01-08</td>\n",
              "      <td>365.393463</td>\n",
              "      <td>365.771027</td>\n",
              "      <td>359.874359</td>\n",
              "      <td>364.280701</td>\n",
              "      <td>364.280701</td>\n",
              "      <td>3373900</td>\n",
              "    </tr>\n",
              "    <tr>\n",
              "      <th>...</th>\n",
              "      <td>...</td>\n",
              "      <td>...</td>\n",
              "      <td>...</td>\n",
              "      <td>...</td>\n",
              "      <td>...</td>\n",
              "      <td>...</td>\n",
              "      <td>...</td>\n",
              "    </tr>\n",
              "    <tr>\n",
              "      <th>1254</th>\n",
              "      <td>2017-12-22</td>\n",
              "      <td>1061.109985</td>\n",
              "      <td>1064.199951</td>\n",
              "      <td>1059.439941</td>\n",
              "      <td>1060.119995</td>\n",
              "      <td>1060.119995</td>\n",
              "      <td>755100</td>\n",
              "    </tr>\n",
              "    <tr>\n",
              "      <th>1255</th>\n",
              "      <td>2017-12-26</td>\n",
              "      <td>1058.069946</td>\n",
              "      <td>1060.119995</td>\n",
              "      <td>1050.199951</td>\n",
              "      <td>1056.739990</td>\n",
              "      <td>1056.739990</td>\n",
              "      <td>760600</td>\n",
              "    </tr>\n",
              "    <tr>\n",
              "      <th>1256</th>\n",
              "      <td>2017-12-27</td>\n",
              "      <td>1057.390015</td>\n",
              "      <td>1058.369995</td>\n",
              "      <td>1048.050049</td>\n",
              "      <td>1049.369995</td>\n",
              "      <td>1049.369995</td>\n",
              "      <td>1271900</td>\n",
              "    </tr>\n",
              "    <tr>\n",
              "      <th>1257</th>\n",
              "      <td>2017-12-28</td>\n",
              "      <td>1051.599976</td>\n",
              "      <td>1054.750000</td>\n",
              "      <td>1044.770020</td>\n",
              "      <td>1048.140015</td>\n",
              "      <td>1048.140015</td>\n",
              "      <td>837100</td>\n",
              "    </tr>\n",
              "    <tr>\n",
              "      <th>1258</th>\n",
              "      <td>2017-12-29</td>\n",
              "      <td>1046.719971</td>\n",
              "      <td>1049.699951</td>\n",
              "      <td>1044.900024</td>\n",
              "      <td>1046.400024</td>\n",
              "      <td>1046.400024</td>\n",
              "      <td>887500</td>\n",
              "    </tr>\n",
              "  </tbody>\n",
              "</table>\n",
              "<p>1259 rows × 7 columns</p>\n",
              "</div>"
            ],
            "text/plain": [
              "            Date         Open         High  ...        Close    Adj Close   Volume\n",
              "0     2013-01-02   357.385559   361.151062  ...   359.288177   359.288177  5115500\n",
              "1     2013-01-03   360.122742   363.600128  ...   359.496826   359.496826  4666500\n",
              "2     2013-01-04   362.313507   368.339294  ...   366.600616   366.600616  5562800\n",
              "3     2013-01-07   365.348755   367.301056  ...   365.001007   365.001007  3332900\n",
              "4     2013-01-08   365.393463   365.771027  ...   364.280701   364.280701  3373900\n",
              "...          ...          ...          ...  ...          ...          ...      ...\n",
              "1254  2017-12-22  1061.109985  1064.199951  ...  1060.119995  1060.119995   755100\n",
              "1255  2017-12-26  1058.069946  1060.119995  ...  1056.739990  1056.739990   760600\n",
              "1256  2017-12-27  1057.390015  1058.369995  ...  1049.369995  1049.369995  1271900\n",
              "1257  2017-12-28  1051.599976  1054.750000  ...  1048.140015  1048.140015   837100\n",
              "1258  2017-12-29  1046.719971  1049.699951  ...  1046.400024  1046.400024   887500\n",
              "\n",
              "[1259 rows x 7 columns]"
            ]
          },
          "metadata": {
            "tags": []
          },
          "execution_count": 4
        }
      ]
    },
    {
      "cell_type": "code",
      "metadata": {
        "id": "jl1tpwt2tqGz",
        "colab_type": "code",
        "colab": {}
      },
      "source": [
        "trainset = dataset_train.iloc[:,1:2].values"
      ],
      "execution_count": 0,
      "outputs": []
    },
    {
      "cell_type": "code",
      "metadata": {
        "id": "8fzjevDqttN6",
        "colab_type": "code",
        "colab": {}
      },
      "source": [
        "from sklearn.preprocessing import MinMaxScaler\n",
        "sc = MinMaxScaler(feature_range = (0,1))\n",
        "training_scaled = sc.fit_transform(trainset)"
      ],
      "execution_count": 0,
      "outputs": []
    },
    {
      "cell_type": "code",
      "metadata": {
        "id": "lTIpv6uftwUL",
        "colab_type": "code",
        "colab": {}
      },
      "source": [
        "x_train = []\n",
        "y_train = []"
      ],
      "execution_count": 0,
      "outputs": []
    },
    {
      "cell_type": "code",
      "metadata": {
        "id": "W66KRlC7tzTT",
        "colab_type": "code",
        "colab": {}
      },
      "source": [
        "import numpy as np\n",
        "for i in range(60,1259):\n",
        "    x_train.append(training_scaled[i-60:i, 0])\n",
        "    y_train.append(training_scaled[i,0])\n",
        "x_train,y_train = np.array(x_train),np.array(y_train)"
      ],
      "execution_count": 0,
      "outputs": []
    },
    {
      "cell_type": "code",
      "metadata": {
        "id": "uXZUEIf8xKa1",
        "colab_type": "code",
        "outputId": "20e591f8-2110-4683-e06a-0a05a9753f3e",
        "colab": {
          "base_uri": "https://localhost:8080/",
          "height": 35
        }
      },
      "source": [
        "x_train.shape"
      ],
      "execution_count": 0,
      "outputs": [
        {
          "output_type": "execute_result",
          "data": {
            "text/plain": [
              "(1199, 60)"
            ]
          },
          "metadata": {
            "tags": []
          },
          "execution_count": 27
        }
      ]
    },
    {
      "cell_type": "code",
      "metadata": {
        "id": "g_r8MttXt7d0",
        "colab_type": "code",
        "colab": {}
      },
      "source": [
        "x_train = np.reshape(x_train, (x_train.shape[0],x_train.shape[1],1))"
      ],
      "execution_count": 0,
      "outputs": []
    },
    {
      "cell_type": "code",
      "metadata": {
        "id": "_hg3VaokuDhk",
        "colab_type": "code",
        "outputId": "7e963f6e-b5ca-4349-c4ba-53886c3e6036",
        "colab": {
          "base_uri": "https://localhost:8080/",
          "height": 161
        }
      },
      "source": [
        "from keras.layers import Dropout\n",
        "K.clear_session()\n",
        "regressor = Sequential()\n",
        "regressor.add(SimpleFocusedRNN(units = 50,name='focus-1',kernel_initializer='he_normal',\n",
        "                                  init_sigma_current=0.1,\n",
        "                                  init_sigma_prev=0.1,\n",
        "                                   initer='Glorot',\n",
        "                                   distribution='uniform',\n",
        "                                    return_sequences = True,input_shape = (x_train.shape[1],1)))\n",
        "regressor.add(Dropout(0.2))\n",
        "\n",
        "  "
      ],
      "execution_count": 0,
      "outputs": [
        {
          "output_type": "stream",
          "text": [
            "input_shape (None, 1)\n",
            "self.input_dim=  1\n",
            "initilizer=  Glorot\n",
            "distribution uniform\n",
            "u_current Tensor(\"focus-1/transpose_2:0\", shape=(1, 50), dtype=float32)\n",
            "u_previous Tensor(\"focus-1/transpose_3:0\", shape=(50, 50), dtype=float32)\n",
            "u_current Tensor(\"focus-1/while/transpose:0\", shape=(1, 50), dtype=float32)\n",
            "u_previous Tensor(\"focus-1/while/transpose_1:0\", shape=(50, 50), dtype=float32)\n"
          ],
          "name": "stdout"
        }
      ]
    },
    {
      "cell_type": "code",
      "metadata": {
        "id": "qJrcG2isuHXb",
        "colab_type": "code",
        "outputId": "3c9cbef1-3336-4bc7-ce16-755d6ae2bffc",
        "colab": {
          "base_uri": "https://localhost:8080/",
          "height": 161
        }
      },
      "source": [
        "regressor.add(SimpleFocusedRNN(units = 50,name='focus-2',kernel_initializer='he_normal',\n",
        "                                  init_sigma_current=0.1,\n",
        "                                  init_sigma_prev=0.1,\n",
        "                                   initer='Glorot',\n",
        "                                   distribution='uniform',\n",
        "                                   return_sequences = True))\n",
        "regressor.add(Dropout(0.2))"
      ],
      "execution_count": 0,
      "outputs": [
        {
          "output_type": "stream",
          "text": [
            "input_shape (None, 50)\n",
            "self.input_dim=  50\n",
            "initilizer=  Glorot\n",
            "distribution uniform\n",
            "u_current Tensor(\"focus-2/transpose_2:0\", shape=(50, 50), dtype=float32)\n",
            "u_previous Tensor(\"focus-2/transpose_3:0\", shape=(50, 50), dtype=float32)\n",
            "u_current Tensor(\"focus-2/while/transpose:0\", shape=(50, 50), dtype=float32)\n",
            "u_previous Tensor(\"focus-2/while/transpose_1:0\", shape=(50, 50), dtype=float32)\n"
          ],
          "name": "stdout"
        }
      ]
    },
    {
      "cell_type": "code",
      "metadata": {
        "id": "2DM5EZ7QuJ2D",
        "colab_type": "code",
        "outputId": "20b33fdf-7da6-42ba-d772-816724188c69",
        "colab": {
          "base_uri": "https://localhost:8080/",
          "height": 161
        }
      },
      "source": [
        "regressor.add(SimpleFocusedRNN(units = 50,name='focus-3',kernel_initializer='he_normal',\n",
        "                                  init_sigma_current=0.1,\n",
        "                                  init_sigma_prev=0.1,\n",
        "                                   initer='Glorot',\n",
        "                                   distribution='uniform',\n",
        "                                   return_sequences = True))\n",
        "regressor.add(Dropout(0.2))"
      ],
      "execution_count": 0,
      "outputs": [
        {
          "output_type": "stream",
          "text": [
            "input_shape (None, 50)\n",
            "self.input_dim=  50\n",
            "initilizer=  Glorot\n",
            "distribution uniform\n",
            "u_current Tensor(\"focus-3/transpose_2:0\", shape=(50, 50), dtype=float32)\n",
            "u_previous Tensor(\"focus-3/transpose_3:0\", shape=(50, 50), dtype=float32)\n",
            "u_current Tensor(\"focus-3/while/transpose:0\", shape=(50, 50), dtype=float32)\n",
            "u_previous Tensor(\"focus-3/while/transpose_1:0\", shape=(50, 50), dtype=float32)\n"
          ],
          "name": "stdout"
        }
      ]
    },
    {
      "cell_type": "code",
      "metadata": {
        "id": "drh3MxVouMUk",
        "colab_type": "code",
        "outputId": "368dedae-d9c2-42ae-bcf0-04272db82927",
        "colab": {
          "base_uri": "https://localhost:8080/",
          "height": 161
        }
      },
      "source": [
        "regressor.add(SimpleFocusedRNN(units = 50,name='focus-4',kernel_initializer='he_normal',\n",
        "                                  init_sigma_current=0.1,\n",
        "                                  init_sigma_prev=0.1,\n",
        "                                   initer='Glorot',\n",
        "                                   distribution='uniform'))\n",
        "regressor.add(Dropout(0.2))"
      ],
      "execution_count": 0,
      "outputs": [
        {
          "output_type": "stream",
          "text": [
            "input_shape (None, 50)\n",
            "self.input_dim=  50\n",
            "initilizer=  Glorot\n",
            "distribution uniform\n",
            "u_current Tensor(\"focus-4/transpose_2:0\", shape=(50, 50), dtype=float32)\n",
            "u_previous Tensor(\"focus-4/transpose_3:0\", shape=(50, 50), dtype=float32)\n",
            "u_current Tensor(\"focus-4/while/transpose:0\", shape=(50, 50), dtype=float32)\n",
            "u_previous Tensor(\"focus-4/while/transpose_1:0\", shape=(50, 50), dtype=float32)\n"
          ],
          "name": "stdout"
        }
      ]
    },
    {
      "cell_type": "code",
      "metadata": {
        "id": "uxgN4PPGuOhT",
        "colab_type": "code",
        "colab": {}
      },
      "source": [
        "from keras.layers import Dense\n",
        "regressor.add(Dense(units = 1))"
      ],
      "execution_count": 0,
      "outputs": []
    },
    {
      "cell_type": "code",
      "metadata": {
        "id": "mEwcpjgsuQZE",
        "colab_type": "code",
        "outputId": "c1f8553d-8dd4-41a9-fed0-62d4df7d0335",
        "colab": {
          "base_uri": "https://localhost:8080/",
          "height": 503
        }
      },
      "source": [
        "opt=AdamwithClip()\n",
        "regressor.compile(optimizer = opt,loss = 'mean_squared_error')\n",
        "print(regressor.summary())"
      ],
      "execution_count": 0,
      "outputs": [
        {
          "output_type": "stream",
          "text": [
            "Model: \"sequential_1\"\n",
            "_________________________________________________________________\n",
            "Layer (type)                 Output Shape              Param #   \n",
            "=================================================================\n",
            "focus-1 (SimpleFocusedRNN)   (None, 60, 50)            2800      \n",
            "_________________________________________________________________\n",
            "dropout_1 (Dropout)          (None, 60, 50)            0         \n",
            "_________________________________________________________________\n",
            "focus-2 (SimpleFocusedRNN)   (None, 60, 50)            5250      \n",
            "_________________________________________________________________\n",
            "dropout_2 (Dropout)          (None, 60, 50)            0         \n",
            "_________________________________________________________________\n",
            "focus-3 (SimpleFocusedRNN)   (None, 60, 50)            5250      \n",
            "_________________________________________________________________\n",
            "dropout_3 (Dropout)          (None, 60, 50)            0         \n",
            "_________________________________________________________________\n",
            "focus-4 (SimpleFocusedRNN)   (None, 50)                5250      \n",
            "_________________________________________________________________\n",
            "dropout_4 (Dropout)          (None, 50)                0         \n",
            "_________________________________________________________________\n",
            "dense_1 (Dense)              (None, 1)                 51        \n",
            "=================================================================\n",
            "Total params: 18,601\n",
            "Trainable params: 18,601\n",
            "Non-trainable params: 0\n",
            "_________________________________________________________________\n",
            "None\n"
          ],
          "name": "stdout"
        }
      ]
    },
    {
      "cell_type": "code",
      "metadata": {
        "id": "2YF8Ym06uSn8",
        "colab_type": "code",
        "outputId": "7d136029-8d68-4488-fc4e-8cffcc6d9e5e",
        "colab": {
          "base_uri": "https://localhost:8080/",
          "height": 1000
        }
      },
      "source": [
        "regressor.fit(x_train,y_train,epochs = 100, batch_size = 32)"
      ],
      "execution_count": 0,
      "outputs": [
        {
          "output_type": "stream",
          "text": [
            "Epoch 1/100\n",
            "1199/1199 [==============================] - 10s 8ms/step - loss: 0.2179\n",
            "Epoch 2/100\n",
            "1199/1199 [==============================] - 7s 6ms/step - loss: 0.0534\n",
            "Epoch 3/100\n",
            "1199/1199 [==============================] - 7s 5ms/step - loss: 0.0362\n",
            "Epoch 4/100\n",
            "1199/1199 [==============================] - 7s 6ms/step - loss: 0.0228\n",
            "Epoch 5/100\n",
            "1199/1199 [==============================] - 7s 5ms/step - loss: 0.0174\n",
            "Epoch 6/100\n",
            "1199/1199 [==============================] - 7s 6ms/step - loss: 0.0161\n",
            "Epoch 7/100\n",
            "1199/1199 [==============================] - 7s 5ms/step - loss: 0.0114\n",
            "Epoch 8/100\n",
            "1199/1199 [==============================] - 6s 5ms/step - loss: 0.0095\n",
            "Epoch 9/100\n",
            "1199/1199 [==============================] - 7s 5ms/step - loss: 0.0095\n",
            "Epoch 10/100\n",
            "1199/1199 [==============================] - 6s 5ms/step - loss: 0.0081\n",
            "Epoch 11/100\n",
            "1199/1199 [==============================] - 7s 5ms/step - loss: 0.0077\n",
            "Epoch 12/100\n",
            "1199/1199 [==============================] - 7s 5ms/step - loss: 0.0061\n",
            "Epoch 13/100\n",
            "1199/1199 [==============================] - 7s 6ms/step - loss: 0.0056\n",
            "Epoch 14/100\n",
            "1199/1199 [==============================] - 6s 5ms/step - loss: 0.0065\n",
            "Epoch 15/100\n",
            "1199/1199 [==============================] - 7s 5ms/step - loss: 0.0050\n",
            "Epoch 16/100\n",
            "1199/1199 [==============================] - 6s 5ms/step - loss: 0.0046\n",
            "Epoch 17/100\n",
            "1199/1199 [==============================] - 7s 5ms/step - loss: 0.0043\n",
            "Epoch 18/100\n",
            "1199/1199 [==============================] - 7s 6ms/step - loss: 0.0044\n",
            "Epoch 19/100\n",
            "1199/1199 [==============================] - 6s 5ms/step - loss: 0.0042\n",
            "Epoch 20/100\n",
            "1199/1199 [==============================] - 6s 5ms/step - loss: 0.0036\n",
            "Epoch 21/100\n",
            "1199/1199 [==============================] - 6s 5ms/step - loss: 0.0037\n",
            "Epoch 22/100\n",
            "1199/1199 [==============================] - 6s 5ms/step - loss: 0.0033\n",
            "Epoch 23/100\n",
            "1199/1199 [==============================] - 6s 5ms/step - loss: 0.0031\n",
            "Epoch 24/100\n",
            "1199/1199 [==============================] - 6s 5ms/step - loss: 0.0032\n",
            "Epoch 25/100\n",
            "1199/1199 [==============================] - 7s 5ms/step - loss: 0.0029\n",
            "Epoch 26/100\n",
            "1199/1199 [==============================] - 6s 5ms/step - loss: 0.0029\n",
            "Epoch 27/100\n",
            "1199/1199 [==============================] - 6s 5ms/step - loss: 0.0028\n",
            "Epoch 28/100\n",
            "1199/1199 [==============================] - 7s 6ms/step - loss: 0.0029\n",
            "Epoch 29/100\n",
            "1199/1199 [==============================] - 6s 5ms/step - loss: 0.0027\n",
            "Epoch 30/100\n",
            "1199/1199 [==============================] - 6s 5ms/step - loss: 0.0027\n",
            "Epoch 31/100\n",
            "1199/1199 [==============================] - 6s 5ms/step - loss: 0.0029\n",
            "Epoch 32/100\n",
            "1199/1199 [==============================] - 6s 5ms/step - loss: 0.0024\n",
            "Epoch 33/100\n",
            "1199/1199 [==============================] - 6s 5ms/step - loss: 0.0030\n",
            "Epoch 34/100\n",
            "1199/1199 [==============================] - 6s 5ms/step - loss: 0.0024\n",
            "Epoch 35/100\n",
            "1199/1199 [==============================] - 6s 5ms/step - loss: 0.0027\n",
            "Epoch 36/100\n",
            "1199/1199 [==============================] - 6s 5ms/step - loss: 0.0026\n",
            "Epoch 37/100\n",
            "1199/1199 [==============================] - 6s 5ms/step - loss: 0.0023\n",
            "Epoch 38/100\n",
            "1199/1199 [==============================] - 6s 5ms/step - loss: 0.0026\n",
            "Epoch 39/100\n",
            "1199/1199 [==============================] - 6s 5ms/step - loss: 0.0020\n",
            "Epoch 40/100\n",
            "1199/1199 [==============================] - 6s 5ms/step - loss: 0.0022\n",
            "Epoch 41/100\n",
            "1199/1199 [==============================] - 6s 5ms/step - loss: 0.0020\n",
            "Epoch 42/100\n",
            "1199/1199 [==============================] - 6s 5ms/step - loss: 0.0022\n",
            "Epoch 43/100\n",
            "1199/1199 [==============================] - 6s 5ms/step - loss: 0.0022\n",
            "Epoch 44/100\n",
            "1199/1199 [==============================] - 6s 5ms/step - loss: 0.0020\n",
            "Epoch 45/100\n",
            "1199/1199 [==============================] - 6s 5ms/step - loss: 0.0019\n",
            "Epoch 46/100\n",
            "1199/1199 [==============================] - 6s 5ms/step - loss: 0.0019\n",
            "Epoch 47/100\n",
            "1199/1199 [==============================] - 7s 5ms/step - loss: 0.0021\n",
            "Epoch 48/100\n",
            "1199/1199 [==============================] - 6s 5ms/step - loss: 0.0019\n",
            "Epoch 49/100\n",
            "1199/1199 [==============================] - 6s 5ms/step - loss: 0.0019\n",
            "Epoch 50/100\n",
            "1199/1199 [==============================] - 7s 5ms/step - loss: 0.0018\n",
            "Epoch 51/100\n",
            "1199/1199 [==============================] - 6s 5ms/step - loss: 0.0019\n",
            "Epoch 52/100\n",
            "1199/1199 [==============================] - 6s 5ms/step - loss: 0.0018\n",
            "Epoch 53/100\n",
            "1199/1199 [==============================] - 6s 5ms/step - loss: 0.0017\n",
            "Epoch 54/100\n",
            "1199/1199 [==============================] - 6s 5ms/step - loss: 0.0018\n",
            "Epoch 55/100\n",
            "1199/1199 [==============================] - 6s 5ms/step - loss: 0.0019\n",
            "Epoch 56/100\n",
            "1199/1199 [==============================] - 7s 5ms/step - loss: 0.0018\n",
            "Epoch 57/100\n",
            "1199/1199 [==============================] - 6s 5ms/step - loss: 0.0017\n",
            "Epoch 58/100\n",
            "1199/1199 [==============================] - 6s 5ms/step - loss: 0.0016\n",
            "Epoch 59/100\n",
            "1199/1199 [==============================] - 6s 5ms/step - loss: 0.0017\n",
            "Epoch 60/100\n",
            "1199/1199 [==============================] - 6s 5ms/step - loss: 0.0016\n",
            "Epoch 61/100\n",
            "1199/1199 [==============================] - 7s 5ms/step - loss: 0.0018\n",
            "Epoch 62/100\n",
            "1199/1199 [==============================] - 6s 5ms/step - loss: 0.0017\n",
            "Epoch 63/100\n",
            "1199/1199 [==============================] - 6s 5ms/step - loss: 0.0016\n",
            "Epoch 64/100\n",
            "1199/1199 [==============================] - 6s 5ms/step - loss: 0.0015\n",
            "Epoch 65/100\n",
            "1199/1199 [==============================] - 6s 5ms/step - loss: 0.0015\n",
            "Epoch 66/100\n",
            "1199/1199 [==============================] - 6s 5ms/step - loss: 0.0017\n",
            "Epoch 67/100\n",
            "1199/1199 [==============================] - 6s 5ms/step - loss: 0.0016\n",
            "Epoch 68/100\n",
            "1199/1199 [==============================] - 6s 5ms/step - loss: 0.0014\n",
            "Epoch 69/100\n",
            "1199/1199 [==============================] - 6s 5ms/step - loss: 0.0017\n",
            "Epoch 70/100\n",
            "1199/1199 [==============================] - 6s 5ms/step - loss: 0.0015\n",
            "Epoch 71/100\n",
            "1199/1199 [==============================] - 6s 5ms/step - loss: 0.0014\n",
            "Epoch 72/100\n",
            "1199/1199 [==============================] - 6s 5ms/step - loss: 0.0019\n",
            "Epoch 73/100\n",
            "1199/1199 [==============================] - 6s 5ms/step - loss: 0.0014\n",
            "Epoch 74/100\n",
            "1199/1199 [==============================] - 6s 5ms/step - loss: 0.0014\n",
            "Epoch 75/100\n",
            "1199/1199 [==============================] - 6s 5ms/step - loss: 0.0013\n",
            "Epoch 76/100\n",
            "1199/1199 [==============================] - 6s 5ms/step - loss: 0.0013\n",
            "Epoch 77/100\n",
            "1199/1199 [==============================] - 6s 5ms/step - loss: 0.0014\n",
            "Epoch 78/100\n",
            "1199/1199 [==============================] - 6s 5ms/step - loss: 0.0015\n",
            "Epoch 79/100\n",
            "1199/1199 [==============================] - 6s 5ms/step - loss: 0.0012\n",
            "Epoch 80/100\n",
            "1199/1199 [==============================] - 6s 5ms/step - loss: 0.0014\n",
            "Epoch 81/100\n",
            "1199/1199 [==============================] - 6s 5ms/step - loss: 0.0013\n",
            "Epoch 82/100\n",
            "1199/1199 [==============================] - 7s 6ms/step - loss: 0.0013\n",
            "Epoch 83/100\n",
            "1199/1199 [==============================] - 6s 5ms/step - loss: 0.0013\n",
            "Epoch 84/100\n",
            "1199/1199 [==============================] - 6s 5ms/step - loss: 0.0014\n",
            "Epoch 85/100\n",
            "1199/1199 [==============================] - 6s 5ms/step - loss: 0.0013\n",
            "Epoch 86/100\n",
            "1199/1199 [==============================] - 6s 5ms/step - loss: 0.0013\n",
            "Epoch 87/100\n",
            "1199/1199 [==============================] - 6s 5ms/step - loss: 0.0014\n",
            "Epoch 88/100\n",
            "1199/1199 [==============================] - 6s 5ms/step - loss: 0.0013\n",
            "Epoch 89/100\n",
            "1199/1199 [==============================] - 6s 5ms/step - loss: 0.0013\n",
            "Epoch 90/100\n",
            "1199/1199 [==============================] - 6s 5ms/step - loss: 0.0013\n",
            "Epoch 91/100\n",
            "1199/1199 [==============================] - 6s 5ms/step - loss: 0.0013\n",
            "Epoch 92/100\n",
            "1199/1199 [==============================] - 6s 5ms/step - loss: 0.0012\n",
            "Epoch 93/100\n",
            "1199/1199 [==============================] - 6s 5ms/step - loss: 0.0013\n",
            "Epoch 94/100\n",
            "1199/1199 [==============================] - 6s 5ms/step - loss: 0.0012\n",
            "Epoch 95/100\n",
            "1199/1199 [==============================] - 6s 5ms/step - loss: 0.0011\n",
            "Epoch 96/100\n",
            "1199/1199 [==============================] - 6s 5ms/step - loss: 0.0013\n",
            "Epoch 97/100\n",
            "1199/1199 [==============================] - 6s 5ms/step - loss: 0.0013\n",
            "Epoch 98/100\n",
            "1199/1199 [==============================] - 6s 5ms/step - loss: 0.0012\n",
            "Epoch 99/100\n",
            "1199/1199 [==============================] - 6s 5ms/step - loss: 0.0013\n",
            "Epoch 100/100\n",
            "1199/1199 [==============================] - 6s 5ms/step - loss: 0.0013\n"
          ],
          "name": "stdout"
        },
        {
          "output_type": "execute_result",
          "data": {
            "text/plain": [
              "<keras.callbacks.History at 0x7f9f04eb4630>"
            ]
          },
          "metadata": {
            "tags": []
          },
          "execution_count": 141
        }
      ]
    },
    {
      "cell_type": "code",
      "metadata": {
        "id": "i1Wv9XTDv1bm",
        "colab_type": "code",
        "colab": {}
      },
      "source": [
        "dataset_test =pd.read_csv(\"testset.csv\")"
      ],
      "execution_count": 0,
      "outputs": []
    },
    {
      "cell_type": "code",
      "metadata": {
        "id": "t1s5hktCv41M",
        "colab_type": "code",
        "colab": {}
      },
      "source": [
        "real_stock_price = dataset_test.iloc[:,1:2].values"
      ],
      "execution_count": 0,
      "outputs": []
    },
    {
      "cell_type": "code",
      "metadata": {
        "id": "_SdqiHLqv60D",
        "colab_type": "code",
        "outputId": "b203572b-7e13-41fc-ec55-6a6297a630a0",
        "colab": {
          "base_uri": "https://localhost:8080/",
          "height": 233
        }
      },
      "source": [
        "dataset_total = pd.concat((dataset_train['Open'],dataset_test['Open']),axis = 0)\n",
        "dataset_total"
      ],
      "execution_count": 0,
      "outputs": [
        {
          "output_type": "execute_result",
          "data": {
            "text/plain": [
              "0       357.385559\n",
              "1       360.122742\n",
              "2       362.313507\n",
              "3       365.348755\n",
              "4       365.393463\n",
              "          ...     \n",
              "120    1143.599976\n",
              "121    1128.000000\n",
              "122    1121.339966\n",
              "123    1102.089966\n",
              "124    1120.000000\n",
              "Name: Open, Length: 1384, dtype: float64"
            ]
          },
          "metadata": {
            "tags": []
          },
          "execution_count": 37
        }
      ]
    },
    {
      "cell_type": "code",
      "metadata": {
        "id": "MV-ZFB4LwDnt",
        "colab_type": "code",
        "outputId": "6e2cd346-849d-4dd9-c49c-a1bb031819f4",
        "colab": {
          "base_uri": "https://localhost:8080/",
          "height": 683
        }
      },
      "source": [
        "inputs = dataset_total[len(dataset_total) - len(dataset_test)-60:].values\n",
        "inputs"
      ],
      "execution_count": 0,
      "outputs": [
        {
          "output_type": "execute_result",
          "data": {
            "text/plain": [
              "array([ 955.48999 ,  966.700012,  980.      ,  980.      ,  973.719971,\n",
              "        987.450012,  992.      ,  992.099976,  990.289978,  991.77002 ,\n",
              "        986.      ,  989.440002,  989.52002 ,  970.      ,  968.369995,\n",
              "        980.      , 1009.190002, 1014.      , 1015.219971, 1017.210022,\n",
              "       1021.76001 , 1022.109985, 1028.98999 , 1027.27002 , 1030.52002 ,\n",
              "       1033.98999 , 1026.459961, 1023.419983, 1022.590027, 1019.210022,\n",
              "       1022.52002 , 1034.01001 , 1020.26001 , 1023.309998, 1035.      ,\n",
              "       1035.869995, 1040.      , 1055.089966, 1042.680054, 1022.369995,\n",
              "       1015.799988, 1012.659973,  995.940002, 1001.5     , 1020.429993,\n",
              "       1037.48999 , 1035.5     , 1039.630005, 1046.119995, 1045.      ,\n",
              "       1054.609985, 1066.079956, 1075.199951, 1071.780029, 1064.949951,\n",
              "       1061.109985, 1058.069946, 1057.390015, 1051.599976, 1046.719971,\n",
              "       1048.339966, 1064.310059, 1088.      , 1094.      , 1102.22998 ,\n",
              "       1109.400024, 1097.099976, 1106.300049, 1102.410034, 1132.51001 ,\n",
              "       1126.219971, 1131.410034, 1131.829956, 1137.48999 , 1159.849976,\n",
              "       1177.329956, 1172.530029, 1175.079956, 1176.47998 , 1167.829956,\n",
              "       1170.569946, 1162.609985, 1122.      , 1090.599976, 1027.180054,\n",
              "       1081.540039, 1055.410034, 1017.25    , 1048.      , 1045.      ,\n",
              "       1048.949951, 1079.069946, 1088.410034, 1090.569946, 1106.469971,\n",
              "       1116.189941, 1112.640015, 1127.800049, 1141.23999 , 1123.030029,\n",
              "       1107.869995, 1053.079956, 1075.140015, 1099.219971, 1089.189941,\n",
              "       1115.319946, 1136.      , 1163.849976, 1170.      , 1145.209961,\n",
              "       1149.959961, 1154.140015, 1120.01001 , 1099.      , 1092.73999 ,\n",
              "       1081.880005, 1047.030029, 1046.      , 1063.      ,  998.      ,\n",
              "       1011.630005, 1022.820007, 1013.909973,  993.409973, 1041.329956,\n",
              "       1020.      , 1016.799988, 1026.439941, 1027.98999 , 1025.040039,\n",
              "       1040.880005, 1037.      , 1051.369995, 1077.430054, 1069.400024,\n",
              "       1082.      , 1077.859985, 1052.      , 1025.52002 , 1029.51001 ,\n",
              "       1046.      , 1030.01001 , 1013.659973, 1028.099976, 1019.      ,\n",
              "       1016.900024, 1049.22998 , 1058.540039, 1058.099976, 1086.030029,\n",
              "       1093.599976, 1100.      , 1090.      , 1077.310059, 1079.890015,\n",
              "       1061.859985, 1074.060059, 1083.560059, 1065.130005, 1079.      ,\n",
              "       1079.02002 , 1064.890015, 1063.030029, 1067.560059, 1099.349976,\n",
              "       1122.329956, 1140.98999 , 1142.170044, 1131.319946, 1118.180054,\n",
              "       1118.599976, 1131.069946, 1141.119995, 1143.849976, 1148.859985,\n",
              "       1143.650024, 1158.5     , 1175.310059, 1174.849976, 1159.140015,\n",
              "       1143.599976, 1128.      , 1121.339966, 1102.089966, 1120.      ])"
            ]
          },
          "metadata": {
            "tags": []
          },
          "execution_count": 38
        }
      ]
    },
    {
      "cell_type": "code",
      "metadata": {
        "id": "Ko20aHnZwGks",
        "colab_type": "code",
        "colab": {}
      },
      "source": [
        "inputs = inputs.reshape(-1,1)"
      ],
      "execution_count": 0,
      "outputs": []
    },
    {
      "cell_type": "code",
      "metadata": {
        "id": "-kTB4yPewI6d",
        "colab_type": "code",
        "outputId": "629b7cc7-b764-4e84-a7ee-797e18d46f8d",
        "colab": {
          "base_uri": "https://localhost:8080/",
          "height": 1000
        }
      },
      "source": [
        "inputs"
      ],
      "execution_count": 0,
      "outputs": [
        {
          "output_type": "execute_result",
          "data": {
            "text/plain": [
              "array([[ 955.48999 ],\n",
              "       [ 966.700012],\n",
              "       [ 980.      ],\n",
              "       [ 980.      ],\n",
              "       [ 973.719971],\n",
              "       [ 987.450012],\n",
              "       [ 992.      ],\n",
              "       [ 992.099976],\n",
              "       [ 990.289978],\n",
              "       [ 991.77002 ],\n",
              "       [ 986.      ],\n",
              "       [ 989.440002],\n",
              "       [ 989.52002 ],\n",
              "       [ 970.      ],\n",
              "       [ 968.369995],\n",
              "       [ 980.      ],\n",
              "       [1009.190002],\n",
              "       [1014.      ],\n",
              "       [1015.219971],\n",
              "       [1017.210022],\n",
              "       [1021.76001 ],\n",
              "       [1022.109985],\n",
              "       [1028.98999 ],\n",
              "       [1027.27002 ],\n",
              "       [1030.52002 ],\n",
              "       [1033.98999 ],\n",
              "       [1026.459961],\n",
              "       [1023.419983],\n",
              "       [1022.590027],\n",
              "       [1019.210022],\n",
              "       [1022.52002 ],\n",
              "       [1034.01001 ],\n",
              "       [1020.26001 ],\n",
              "       [1023.309998],\n",
              "       [1035.      ],\n",
              "       [1035.869995],\n",
              "       [1040.      ],\n",
              "       [1055.089966],\n",
              "       [1042.680054],\n",
              "       [1022.369995],\n",
              "       [1015.799988],\n",
              "       [1012.659973],\n",
              "       [ 995.940002],\n",
              "       [1001.5     ],\n",
              "       [1020.429993],\n",
              "       [1037.48999 ],\n",
              "       [1035.5     ],\n",
              "       [1039.630005],\n",
              "       [1046.119995],\n",
              "       [1045.      ],\n",
              "       [1054.609985],\n",
              "       [1066.079956],\n",
              "       [1075.199951],\n",
              "       [1071.780029],\n",
              "       [1064.949951],\n",
              "       [1061.109985],\n",
              "       [1058.069946],\n",
              "       [1057.390015],\n",
              "       [1051.599976],\n",
              "       [1046.719971],\n",
              "       [1048.339966],\n",
              "       [1064.310059],\n",
              "       [1088.      ],\n",
              "       [1094.      ],\n",
              "       [1102.22998 ],\n",
              "       [1109.400024],\n",
              "       [1097.099976],\n",
              "       [1106.300049],\n",
              "       [1102.410034],\n",
              "       [1132.51001 ],\n",
              "       [1126.219971],\n",
              "       [1131.410034],\n",
              "       [1131.829956],\n",
              "       [1137.48999 ],\n",
              "       [1159.849976],\n",
              "       [1177.329956],\n",
              "       [1172.530029],\n",
              "       [1175.079956],\n",
              "       [1176.47998 ],\n",
              "       [1167.829956],\n",
              "       [1170.569946],\n",
              "       [1162.609985],\n",
              "       [1122.      ],\n",
              "       [1090.599976],\n",
              "       [1027.180054],\n",
              "       [1081.540039],\n",
              "       [1055.410034],\n",
              "       [1017.25    ],\n",
              "       [1048.      ],\n",
              "       [1045.      ],\n",
              "       [1048.949951],\n",
              "       [1079.069946],\n",
              "       [1088.410034],\n",
              "       [1090.569946],\n",
              "       [1106.469971],\n",
              "       [1116.189941],\n",
              "       [1112.640015],\n",
              "       [1127.800049],\n",
              "       [1141.23999 ],\n",
              "       [1123.030029],\n",
              "       [1107.869995],\n",
              "       [1053.079956],\n",
              "       [1075.140015],\n",
              "       [1099.219971],\n",
              "       [1089.189941],\n",
              "       [1115.319946],\n",
              "       [1136.      ],\n",
              "       [1163.849976],\n",
              "       [1170.      ],\n",
              "       [1145.209961],\n",
              "       [1149.959961],\n",
              "       [1154.140015],\n",
              "       [1120.01001 ],\n",
              "       [1099.      ],\n",
              "       [1092.73999 ],\n",
              "       [1081.880005],\n",
              "       [1047.030029],\n",
              "       [1046.      ],\n",
              "       [1063.      ],\n",
              "       [ 998.      ],\n",
              "       [1011.630005],\n",
              "       [1022.820007],\n",
              "       [1013.909973],\n",
              "       [ 993.409973],\n",
              "       [1041.329956],\n",
              "       [1020.      ],\n",
              "       [1016.799988],\n",
              "       [1026.439941],\n",
              "       [1027.98999 ],\n",
              "       [1025.040039],\n",
              "       [1040.880005],\n",
              "       [1037.      ],\n",
              "       [1051.369995],\n",
              "       [1077.430054],\n",
              "       [1069.400024],\n",
              "       [1082.      ],\n",
              "       [1077.859985],\n",
              "       [1052.      ],\n",
              "       [1025.52002 ],\n",
              "       [1029.51001 ],\n",
              "       [1046.      ],\n",
              "       [1030.01001 ],\n",
              "       [1013.659973],\n",
              "       [1028.099976],\n",
              "       [1019.      ],\n",
              "       [1016.900024],\n",
              "       [1049.22998 ],\n",
              "       [1058.540039],\n",
              "       [1058.099976],\n",
              "       [1086.030029],\n",
              "       [1093.599976],\n",
              "       [1100.      ],\n",
              "       [1090.      ],\n",
              "       [1077.310059],\n",
              "       [1079.890015],\n",
              "       [1061.859985],\n",
              "       [1074.060059],\n",
              "       [1083.560059],\n",
              "       [1065.130005],\n",
              "       [1079.      ],\n",
              "       [1079.02002 ],\n",
              "       [1064.890015],\n",
              "       [1063.030029],\n",
              "       [1067.560059],\n",
              "       [1099.349976],\n",
              "       [1122.329956],\n",
              "       [1140.98999 ],\n",
              "       [1142.170044],\n",
              "       [1131.319946],\n",
              "       [1118.180054],\n",
              "       [1118.599976],\n",
              "       [1131.069946],\n",
              "       [1141.119995],\n",
              "       [1143.849976],\n",
              "       [1148.859985],\n",
              "       [1143.650024],\n",
              "       [1158.5     ],\n",
              "       [1175.310059],\n",
              "       [1174.849976],\n",
              "       [1159.140015],\n",
              "       [1143.599976],\n",
              "       [1128.      ],\n",
              "       [1121.339966],\n",
              "       [1102.089966],\n",
              "       [1120.      ]])"
            ]
          },
          "metadata": {
            "tags": []
          },
          "execution_count": 40
        }
      ]
    },
    {
      "cell_type": "code",
      "metadata": {
        "id": "1lvkLlc9wLut",
        "colab_type": "code",
        "outputId": "f61a8d19-1cda-43e4-c93c-786ceeb940d2",
        "colab": {
          "base_uri": "https://localhost:8080/",
          "height": 35
        }
      },
      "source": [
        "inputs = sc.transform(inputs)\n",
        "inputs.shape"
      ],
      "execution_count": 0,
      "outputs": [
        {
          "output_type": "execute_result",
          "data": {
            "text/plain": [
              "(185, 1)"
            ]
          },
          "metadata": {
            "tags": []
          },
          "execution_count": 41
        }
      ]
    },
    {
      "cell_type": "code",
      "metadata": {
        "id": "-j9JrZ6EwNq0",
        "colab_type": "code",
        "colab": {}
      },
      "source": [
        "x_test = []\n",
        "for i in range(60,185):\n",
        "    x_test.append(inputs[i-60:i,0])"
      ],
      "execution_count": 0,
      "outputs": []
    },
    {
      "cell_type": "code",
      "metadata": {
        "id": "5Oj_64OCwPWN",
        "colab_type": "code",
        "outputId": "aa72d17b-39fe-4e19-ff82-469f692812d7",
        "colab": {
          "base_uri": "https://localhost:8080/",
          "height": 35
        }
      },
      "source": [
        "x_test = np.array(x_test)\n",
        "x_test.shape"
      ],
      "execution_count": 0,
      "outputs": [
        {
          "output_type": "execute_result",
          "data": {
            "text/plain": [
              "(125, 60)"
            ]
          },
          "metadata": {
            "tags": []
          },
          "execution_count": 43
        }
      ]
    },
    {
      "cell_type": "code",
      "metadata": {
        "id": "QbPEJ7BfwR0O",
        "colab_type": "code",
        "outputId": "e3c26f05-c9e8-410c-f372-7fe9b9d80998",
        "colab": {
          "base_uri": "https://localhost:8080/",
          "height": 35
        }
      },
      "source": [
        "x_test = np.reshape(x_test, (x_test.shape[0],x_test.shape[1],1))\n",
        "x_test.shape"
      ],
      "execution_count": 0,
      "outputs": [
        {
          "output_type": "execute_result",
          "data": {
            "text/plain": [
              "(125, 60, 1)"
            ]
          },
          "metadata": {
            "tags": []
          },
          "execution_count": 44
        }
      ]
    },
    {
      "cell_type": "code",
      "metadata": {
        "id": "7D4SW4lfwTl9",
        "colab_type": "code",
        "colab": {}
      },
      "source": [
        "predicted_price = regressor.predict(x_test)"
      ],
      "execution_count": 0,
      "outputs": []
    },
    {
      "cell_type": "code",
      "metadata": {
        "id": "KfSnh0O2wVUk",
        "colab_type": "code",
        "outputId": "97273458-dcee-4b6e-a0e6-5f1781758929",
        "colab": {
          "base_uri": "https://localhost:8080/",
          "height": 1000
        }
      },
      "source": [
        "predicted_price = sc.inverse_transform(predicted_price)\n",
        "predicted_price"
      ],
      "execution_count": 0,
      "outputs": [
        {
          "output_type": "execute_result",
          "data": {
            "text/plain": [
              "array([[1044.3429 ],\n",
              "       [1043.4155 ],\n",
              "       [1050.2107 ],\n",
              "       [1063.9387 ],\n",
              "       [1072.5941 ],\n",
              "       [1079.9296 ],\n",
              "       [1086.5673 ],\n",
              "       [1084.2773 ],\n",
              "       [1087.746  ],\n",
              "       [1087.876  ],\n",
              "       [1101.1265 ],\n",
              "       [1104.9287 ],\n",
              "       [1108.2561 ],\n",
              "       [1110.751  ],\n",
              "       [1113.843  ],\n",
              "       [1125.8119 ],\n",
              "       [1138.282  ],\n",
              "       [1141.8728 ],\n",
              "       [1144.6056 ],\n",
              "       [1146.8207 ],\n",
              "       [1144.2627 ],\n",
              "       [1144.7524 ],\n",
              "       [1141.4834 ],\n",
              "       [1122.3337 ],\n",
              "       [1100.1267 ],\n",
              "       [1061.5939 ],\n",
              "       [1068.522  ],\n",
              "       [1060.9242 ],\n",
              "       [1037.81   ],\n",
              "       [1041.8439 ],\n",
              "       [1040.78   ],\n",
              "       [1042.8717 ],\n",
              "       [1056.9287 ],\n",
              "       [1066.3156 ],\n",
              "       [1071.786  ],\n",
              "       [1081.592  ],\n",
              "       [1090.1929 ],\n",
              "       [1092.9385 ],\n",
              "       [1101.1075 ],\n",
              "       [1110.792  ],\n",
              "       [1107.412  ],\n",
              "       [1099.5172 ],\n",
              "       [1071.5795 ],\n",
              "       [1068.9197 ],\n",
              "       [1079.6627 ],\n",
              "       [1078.9683 ],\n",
              "       [1090.3329 ],\n",
              "       [1103.6576 ],\n",
              "       [1121.8546 ],\n",
              "       [1133.0742 ],\n",
              "       [1126.694  ],\n",
              "       [1126.4537 ],\n",
              "       [1128.8184 ],\n",
              "       [1115.272  ],\n",
              "       [1100.2219 ],\n",
              "       [1090.6299 ],\n",
              "       [1081.5522 ],\n",
              "       [1062.0723 ],\n",
              "       [1051.9897 ],\n",
              "       [1055.0173 ],\n",
              "       [1026.3639 ],\n",
              "       [1018.7568 ],\n",
              "       [1020.685  ],\n",
              "       [1016.4737 ],\n",
              "       [1005.81   ],\n",
              "       [1021.08264],\n",
              "       [1019.22504],\n",
              "       [1016.0105 ],\n",
              "       [1019.7045 ],\n",
              "       [1020.8178 ],\n",
              "       [1021.40204],\n",
              "       [1028.2056 ],\n",
              "       [1029.7527 ],\n",
              "       [1036.8345 ],\n",
              "       [1052.3818 ],\n",
              "       [1055.417  ],\n",
              "       [1062.729  ],\n",
              "       [1064.406  ],\n",
              "       [1053.4219 ],\n",
              "       [1037.0988 ],\n",
              "       [1031.3368 ],\n",
              "       [1036.7963 ],\n",
              "       [1031.9222 ],\n",
              "       [1021.6049 ],\n",
              "       [1023.1231 ],\n",
              "       [1019.89136],\n",
              "       [1017.4034 ],\n",
              "       [1030.849  ],\n",
              "       [1040.7423 ],\n",
              "       [1045.1188 ],\n",
              "       [1059.7067 ],\n",
              "       [1069.6249 ],\n",
              "       [1077.2828 ],\n",
              "       [1076.7069 ],\n",
              "       [1070.5052 ],\n",
              "       [1069.7291 ],\n",
              "       [1061.5326 ],\n",
              "       [1063.3711 ],\n",
              "       [1068.7026 ],\n",
              "       [1062.3496 ],\n",
              "       [1065.8949 ],\n",
              "       [1067.3982 ],\n",
              "       [1061.5334 ],\n",
              "       [1058.3721 ],\n",
              "       [1058.5669 ],\n",
              "       [1073.1123 ],\n",
              "       [1090.0146 ],\n",
              "       [1105.2185 ],\n",
              "       [1112.6456 ],\n",
              "       [1111.1896 ],\n",
              "       [1105.4558 ],\n",
              "       [1103.4446 ],\n",
              "       [1108.4674 ],\n",
              "       [1115.1409 ],\n",
              "       [1119.2985 ],\n",
              "       [1123.2472 ],\n",
              "       [1122.8796 ],\n",
              "       [1129.2593 ],\n",
              "       [1139.5664 ],\n",
              "       [1143.671  ],\n",
              "       [1138.9298 ],\n",
              "       [1130.1111 ],\n",
              "       [1119.781  ],\n",
              "       [1112.5465 ],\n",
              "       [1100.9076 ]], dtype=float32)"
            ]
          },
          "metadata": {
            "tags": []
          },
          "execution_count": 143
        }
      ]
    },
    {
      "cell_type": "code",
      "metadata": {
        "id": "h4Vuap4_wXt2",
        "colab_type": "code",
        "outputId": "b9abb16d-1e94-4133-f964-40e3056b0180",
        "colab": {
          "base_uri": "https://localhost:8080/",
          "height": 295
        }
      },
      "source": [
        "plt.plot(real_stock_price,color = 'red', label = 'Real Price')\n",
        "plt.plot(predicted_price, color = 'blue', label = 'Predicted Price')\n",
        "plt.title('Google Stock Price Prediction')\n",
        "plt.xlabel('Time')\n",
        "plt.ylabel('Google Stock Price')\n",
        "plt.legend()\n",
        "plt.show()"
      ],
      "execution_count": 0,
      "outputs": [
        {
          "output_type": "display_data",
          "data": {
            "image/png": "[encoded data removed]",
            "text/plain": [
              "<Figure size 432x288 with 1 Axes>"
            ]
          },
          "metadata": {
            "tags": []
          }
        }
      ]
    }
  ]
}